{
  "nbformat": 4,
  "nbformat_minor": 0,
  "metadata": {
    "colab": {
      "provenance": [],
      "authorship_tag": "ABX9TyN0ZCm25nswWxlgU7PiZONG",
      "include_colab_link": true
    },
    "kernelspec": {
      "name": "python3",
      "display_name": "Python 3"
    },
    "language_info": {
      "name": "python"
    }
  },
  "cells": [
    {
      "cell_type": "markdown",
      "metadata": {
        "id": "view-in-github",
        "colab_type": "text"
      },
      "source": [
        "<a href=\"https://colab.research.google.com/github/Giriteja-08/Image-Detection-Using-Basic-Simple-CNN/blob/main/image_Detection_Classification_Using_Basic_CNN.ipynb\" target=\"_parent\"><img src=\"https://colab.research.google.com/assets/colab-badge.svg\" alt=\"Open In Colab\"/></a>"
      ]
    },
    {
      "cell_type": "markdown",
      "source": [
        "#Soft Computing Project\n",
        "image detection using simple cnn\n",
        "\n",
        "Name: C GIRI TEJA\n",
        "\n",
        "Reg No: 20BCN7153"
      ],
      "metadata": {
        "id": "Gx3o7eoAn13c"
      }
    },
    {
      "cell_type": "markdown",
      "source": [
        "Importing required libraries"
      ],
      "metadata": {
        "id": "fBmypBYcoWOt"
      }
    },
    {
      "cell_type": "code",
      "execution_count": null,
      "metadata": {
        "id": "aSZFVTEVDXUG"
      },
      "outputs": [],
      "source": [
        "import numpy as np\n",
        "import matplotlib.pyplot as plt\n",
        "from keras.datasets import mnist #dataset\n",
        "from sklearn.model_selection import train_test_split\n",
        "from sklearn.metrics import confusion_matrix, classification_report\n",
        "from tensorflow.keras.models import Sequential\n",
        "from tensorflow.keras.layers import Dense , Conv2D , MaxPool2D , Flatten\n",
        "from tensorflow.keras.utils import to_categorical\n",
        "from tensorflow.keras.optimizers import Adam"
      ]
    },
    {
      "cell_type": "markdown",
      "source": [
        "Loading the dataset:\n",
        "\n",
        "Dataset used here is MNIST, it is a collection of around 60000 hand-written digits between 0 to 9 of size 28*28 pixel"
      ],
      "metadata": {
        "id": "8lAC88ZSomft"
      }
    },
    {
      "cell_type": "code",
      "source": [
        "np.random.seed(0)\n",
        "(X_train, y_train), (X_test, y_test) = mnist.load_data()"
      ],
      "metadata": {
        "colab": {
          "base_uri": "https://localhost:8080/"
        },
        "id": "-gNTRgR3EAcr",
        "outputId": "2ff2eec9-9048-40f8-c5a2-385623b6887b"
      },
      "execution_count": null,
      "outputs": [
        {
          "output_type": "stream",
          "name": "stdout",
          "text": [
            "Downloading data from https://storage.googleapis.com/tensorflow/tf-keras-datasets/mnist.npz\n",
            "11490434/11490434 [==============================] - 1s 0us/step\n"
          ]
        }
      ]
    },
    {
      "cell_type": "code",
      "source": [
        "plt.figure(figsize=(10,10))\n",
        "for i in range(5):\n",
        "    plt.subplot(5,5,i+1)\n",
        "    plt.imshow(X_train[i], cmap='gray')\n",
        "    plt.axis('off')\n",
        "plt.show()"
      ],
      "metadata": {
        "colab": {
          "base_uri": "https://localhost:8080/",
          "height": 169
        },
        "id": "WSESKWGSEWqs",
        "outputId": "6f0e432a-178c-415a-951f-8acd6f9b3368"
      },
      "execution_count": null,
      "outputs": [
        {
          "output_type": "display_data",
          "data": {
            "text/plain": [
              "<Figure size 1000x1000 with 5 Axes>"
            ],
            "image/png": "[encoded data removed]"
          },
          "metadata": {}
        }
      ]
    },
    {
      "cell_type": "code",
      "source": [
        "X_train.shape"
      ],
      "metadata": {
        "colab": {
          "base_uri": "https://localhost:8080/"
        },
        "id": "JlmLV4oEEYmY",
        "outputId": "e515f22b-cd2d-437e-8735-2e49643ad6b3"
      },
      "execution_count": null,
      "outputs": [
        {
          "output_type": "execute_result",
          "data": {
            "text/plain": [
              "(60000, 28, 28)"
            ]
          },
          "metadata": {},
          "execution_count": 15
        }
      ]
    },
    {
      "cell_type": "markdown",
      "source": [
        "Data Normalization: Here the data between 0-255 will be normalized to the range between 0 to 1."
      ],
      "metadata": {
        "id": "KiuHRCDwtxwt"
      }
    },
    {
      "cell_type": "code",
      "source": [
        "x_train = x_train.astype('float32')\n",
        "x_test = x_test.astype('float32')\n",
        "x_train /= 255\n",
        "x_test /= 255\n",
        "tbCallBack = keras.callbacks.TensorBoard(log_dir='./Graph2', histogram_freq=0, write_graph=True, write_images=True)"
      ],
      "metadata": {
        "id": "Zj2pqeovF6kt"
      },
      "execution_count": null,
      "outputs": []
    },
    {
      "cell_type": "markdown",
      "source": [
        "Defining the model architecture of Basic/Simple CNN.\n",
        "\n",
        "CNN Architecture:\n",
        "Input Layer->Convolution Layer->Activation Function->Pooling Layer->Flattening->Fully Connected  Layer->Output Layer.\n",
        "\n",
        "Conv2D: Convolutional layer with 32 filters of size 3x3, using ReLU activation function.\n",
        "Input shape: (28, 28, 1) corresponds to 28x28 grayscale images.\n",
        "\n",
        "MaxPool2D: Max pooling layer with pool size 2x2.\n",
        "Reduces the spatial dimensions by taking the maximum value within each 2x2 window.\n",
        "\n",
        "Conv2D: Convolutional layer with 64 filters of size 3x3, using ReLU activation function.\n",
        "\n",
        "MaxPool2D: Max pooling layer with pool size 2x2.\n",
        "\n",
        "Flatten(): Flattens the input from 2D to a 1D array.\n",
        "Necessary before passing the data to a fully connected layer.\n",
        "\n",
        "Desnse(x,activation='relu'): Fully connected layer with 64 neurons and ReLU activation function. similarly other two are of 32 neurons and 10 neurons with softmax activation function. Softmax outputs probabilities for each class, indicating the model's confidence.\n",
        "\n",
        "Here Accuracy metric is calculated during training and evaluation.\n",
        "\n",
        "\n"
      ],
      "metadata": {
        "id": "kWNcuv0Xot1w"
      }
    },
    {
      "cell_type": "code",
      "source": [
        "model = Sequential(\n",
        "    [\n",
        "        Conv2D(32, (3, 3), activation='relu', input_shape=(28, 28, 1)),\n",
        "        MaxPool2D((2, 2)),\n",
        "        Conv2D(64, (3, 3), activation='relu'),\n",
        "        MaxPool2D((2, 2)),\n",
        "        Flatten(),\n",
        "        Dense(64, activation='relu'),\n",
        "        Dense(32, activation='relu'),\n",
        "        Dense(10, activation='softmax')\n",
        "    ]\n",
        ")\n",
        "\n",
        "# Compiling the model\n",
        "model.compile(optimizer=Adam(lr=0.04), loss='categorical_crossentropy', metrics=['accuracy'])\n",
        "# Adam optimizer with learning rate 0.04.\n",
        "# Categorical cross-entropy loss function is used for multi-class classification.\n",
        "\n",
        "# Printing the model summary\n",
        "model.summary()\n",
        "# Displays a summary of the model architecture, including the number of parameters in each layer,\n",
        "# as well as the total number of trainable parameters."
      ],
      "metadata": {
        "colab": {
          "base_uri": "https://localhost:8080/"
        },
        "id": "_SwGH8FrF9fP",
        "outputId": "8ec7ee49-5cac-4031-d48e-3272dd3d0489"
      },
      "execution_count": null,
      "outputs": [
        {
          "output_type": "stream",
          "name": "stderr",
          "text": [
            "WARNING:absl:`lr` is deprecated in Keras optimizer, please use `learning_rate` or use the legacy optimizer, e.g.,tf.keras.optimizers.legacy.Adam.\n"
          ]
        },
        {
          "output_type": "stream",
          "name": "stdout",
          "text": [
            "Model: \"sequential_2\"\n",
            "_________________________________________________________________\n",
            " Layer (type)                Output Shape              Param #   \n",
            "=================================================================\n",
            " conv2d_4 (Conv2D)           (None, 26, 26, 32)        320       \n",
            "                                                                 \n",
            " max_pooling2d_2 (MaxPooling  (None, 13, 13, 32)       0         \n",
            " 2D)                                                             \n",
            "                                                                 \n",
            " conv2d_5 (Conv2D)           (None, 11, 11, 64)        18496     \n",
            "                                                                 \n",
            " max_pooling2d_3 (MaxPooling  (None, 5, 5, 64)         0         \n",
            " 2D)                                                             \n",
            "                                                                 \n",
            " flatten (Flatten)           (None, 1600)              0         \n",
            "                                                                 \n",
            " dense_2 (Dense)             (None, 64)                102464    \n",
            "                                                                 \n",
            " dense_3 (Dense)             (None, 32)                2080      \n",
            "                                                                 \n",
            " dense_4 (Dense)             (None, 10)                330       \n",
            "                                                                 \n",
            "=================================================================\n",
            "Total params: 123,690\n",
            "Trainable params: 123,690\n",
            "Non-trainable params: 0\n",
            "_________________________________________________________________\n"
          ]
        }
      ]
    },
    {
      "cell_type": "markdown",
      "source": [
        "Training the Model"
      ],
      "metadata": {
        "id": "4vRMEDSUpF-j"
      }
    },
    {
      "cell_type": "code",
      "source": [
        "from keras.callbacks import TensorBoard\n",
        "X_train, X_test, y_train, y_test = train_test_split(X_train, y_train, test_size=0.2)\n",
        "model.fit(X_train.reshape(-1,28,28,1), to_categorical(y_train), epochs=10, validation_split=0.2,callbacks=[TensorBoard('CNN_logs')])"
      ],
      "metadata": {
        "colab": {
          "base_uri": "https://localhost:8080/"
        },
        "id": "ocn6sixfnIao",
        "outputId": "25ef7045-5849-49dd-ee66-65c886d30e07"
      },
      "execution_count": null,
      "outputs": [
        {
          "output_type": "stream",
          "name": "stdout",
          "text": [
            "Epoch 1/10\n",
            "1200/1200 [==============================] - 47s 38ms/step - loss: 0.3124 - accuracy: 0.9278 - val_loss: 0.1065 - val_accuracy: 0.9710\n",
            "Epoch 2/10\n",
            "1200/1200 [==============================] - 47s 39ms/step - loss: 0.0797 - accuracy: 0.9765 - val_loss: 0.0736 - val_accuracy: 0.9793\n",
            "Epoch 3/10\n",
            "1200/1200 [==============================] - 44s 37ms/step - loss: 0.0576 - accuracy: 0.9829 - val_loss: 0.0782 - val_accuracy: 0.9770\n",
            "Epoch 4/10\n",
            "1200/1200 [==============================] - 44s 37ms/step - loss: 0.0477 - accuracy: 0.9849 - val_loss: 0.0723 - val_accuracy: 0.9832\n",
            "Epoch 5/10\n",
            "1200/1200 [==============================] - 44s 37ms/step - loss: 0.0432 - accuracy: 0.9871 - val_loss: 0.0658 - val_accuracy: 0.9832\n",
            "Epoch 6/10\n",
            "1200/1200 [==============================] - 47s 40ms/step - loss: 0.0339 - accuracy: 0.9894 - val_loss: 0.0675 - val_accuracy: 0.9831\n",
            "Epoch 7/10\n",
            "1200/1200 [==============================] - 43s 36ms/step - loss: 0.0316 - accuracy: 0.9901 - val_loss: 0.0595 - val_accuracy: 0.9862\n",
            "Epoch 8/10\n",
            "1200/1200 [==============================] - 44s 37ms/step - loss: 0.0289 - accuracy: 0.9911 - val_loss: 0.0522 - val_accuracy: 0.9890\n",
            "Epoch 9/10\n",
            "1200/1200 [==============================] - 45s 37ms/step - loss: 0.0208 - accuracy: 0.9935 - val_loss: 0.0676 - val_accuracy: 0.9851\n",
            "Epoch 10/10\n",
            "1200/1200 [==============================] - 46s 38ms/step - loss: 0.0221 - accuracy: 0.9928 - val_loss: 0.0734 - val_accuracy: 0.9845\n"
          ]
        },
        {
          "output_type": "execute_result",
          "data": {
            "text/plain": [
              "<keras.callbacks.History at 0x7faf6666ec80>"
            ]
          },
          "metadata": {},
          "execution_count": 17
        }
      ]
    },
    {
      "cell_type": "markdown",
      "source": [
        "Evaluating the Model"
      ],
      "metadata": {
        "id": "LVF2MSSQpKxq"
      }
    },
    {
      "cell_type": "code",
      "source": [
        "model.evaluate(X_test.reshape(-1,28,28,1), to_categorical(y_test))"
      ],
      "metadata": {
        "colab": {
          "base_uri": "https://localhost:8080/"
        },
        "id": "IY4aLkzVpP9Q",
        "outputId": "dd371cd6-876b-4cd1-9573-fb65a6007d8b"
      },
      "execution_count": null,
      "outputs": [
        {
          "output_type": "stream",
          "name": "stdout",
          "text": [
            "375/375 [==============================] - 4s 10ms/step - loss: 0.0736 - accuracy: 0.9828\n"
          ]
        },
        {
          "output_type": "execute_result",
          "data": {
            "text/plain": [
              "[0.07364264875650406, 0.9828333258628845]"
            ]
          },
          "metadata": {},
          "execution_count": 18
        }
      ]
    },
    {
      "cell_type": "markdown",
      "source": [
        "Confusin Matrix"
      ],
      "metadata": {
        "id": "Dm-vCoadpbsX"
      }
    },
    {
      "cell_type": "code",
      "source": [
        "y_pred = model.predict(X_test.reshape(-1,28,28,1))\n",
        "y_pred = np.argmax(y_pred, axis=1)\n",
        "y_pred"
      ],
      "metadata": {
        "colab": {
          "base_uri": "https://localhost:8080/"
        },
        "id": "yjemqec-pdnF",
        "outputId": "c98adcaf-da21-42e6-8d64-13ce849ef76d"
      },
      "execution_count": null,
      "outputs": [
        {
          "output_type": "stream",
          "name": "stdout",
          "text": [
            "375/375 [==============================] - 4s 10ms/step\n"
          ]
        },
        {
          "output_type": "execute_result",
          "data": {
            "text/plain": [
              "array([3, 6, 6, ..., 5, 1, 6])"
            ]
          },
          "metadata": {},
          "execution_count": 19
        }
      ]
    },
    {
      "cell_type": "code",
      "source": [
        "print(confusion_matrix(y_test, y_pred))"
      ],
      "metadata": {
        "colab": {
          "base_uri": "https://localhost:8080/"
        },
        "id": "SDhP_TCKpgj_",
        "outputId": "0c8c17e3-6edb-42d6-c223-3ee587e734f3"
      },
      "execution_count": null,
      "outputs": [
        {
          "output_type": "stream",
          "name": "stdout",
          "text": [
            "[[1198    0    1    0    0    0    2    1    0    3]\n",
            " [   1 1362    1    0    2    3    1    5    4    0]\n",
            " [   0    0 1158    0    0    0    0    5    2    1]\n",
            " [   0    1   11 1175    0   14    0    3    3    1]\n",
            " [   1    2    3    0 1103    0    2    7    4   31]\n",
            " [   3    0    0    1    0 1060    6    0    3    2]\n",
            " [   7    3    1    0    0    6 1169    0    3    1]\n",
            " [   0    2    5    2    0    0    0 1217    0    2]\n",
            " [   4    3    0    0    0    3    2    1 1172    6]\n",
            " [   1    1    0    0    5    3    1   10    4 1180]]\n"
          ]
        }
      ]
    },
    {
      "cell_type": "markdown",
      "source": [
        "Classification Report\n",
        "\n",
        "\n",
        "Precision is the ability of a classifier not to label an instance positive that is actually negative.\n",
        "Prision=TP/(TP+FP)\n",
        "\n",
        "Recall is the ability of a classifier to find all positive instances.\n",
        "Recall=TP/(TP+FN)\n",
        "\n",
        "The F1 score is a weighted harmonic mean of precision and recall such that the best score is 1.0 and the worst is 0.0. Generally speaking, F1 scores are lower than accuracy measures as they embed precision and recall into their computation. As a rule of thumb, the weighted average of F1 should be used to compare classifier models, not global accuracy.\n",
        "F1-Score=2*(Recall * Precision) / (Recall + Precision)\n",
        "\n",
        "Support is the number of actual occurrences of the class in the dataset. It doesn’t vary between models, it just diagnoses the performance evaluation process.\n",
        "\n",
        "\n"
      ],
      "metadata": {
        "id": "COwe1mxmw6Rf"
      }
    },
    {
      "cell_type": "code",
      "source": [
        "print(classification_report(y_test, y_pred))"
      ],
      "metadata": {
        "colab": {
          "base_uri": "https://localhost:8080/"
        },
        "id": "DB6dalRZpmBb",
        "outputId": "aebe2bd5-cc47-4c9a-d438-c1905ef27ee8"
      },
      "execution_count": null,
      "outputs": [
        {
          "output_type": "stream",
          "name": "stdout",
          "text": [
            "              precision    recall  f1-score   support\n",
            "\n",
            "           0       0.99      0.99      0.99      1205\n",
            "           1       0.99      0.99      0.99      1379\n",
            "           2       0.98      0.99      0.99      1166\n",
            "           3       1.00      0.97      0.98      1208\n",
            "           4       0.99      0.96      0.97      1153\n",
            "           5       0.97      0.99      0.98      1075\n",
            "           6       0.99      0.98      0.99      1190\n",
            "           7       0.97      0.99      0.98      1228\n",
            "           8       0.98      0.98      0.98      1191\n",
            "           9       0.96      0.98      0.97      1205\n",
            "\n",
            "    accuracy                           0.98     12000\n",
            "   macro avg       0.98      0.98      0.98     12000\n",
            "weighted avg       0.98      0.98      0.98     12000\n",
            "\n"
          ]
        }
      ]
    }
  ]
}